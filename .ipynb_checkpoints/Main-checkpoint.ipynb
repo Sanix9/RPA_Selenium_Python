{
 "cells": [
  {
   "cell_type": "markdown",
   "metadata": {},
   "source": [
    "## Automatización de Procesos Usando Selenium en Python\n",
    "\n",
    "### Autor: Jorge Sanisaca\n",
    "\n",
    "### ¿Qué es Selenium?\n",
    "Selenium es una suit de herramientas para automatizar lo que sucede en un borwser, es un software libre\n",
    "\n",
    "### Prerrequisitos\n",
    "- python 3.7 o supeior\n",
    "- web driver de selenium\n",
    "\n",
    "### Instalaciones necesarias\n",
    "- ```pip install selenium```\n",
    "- ```pip install openpylx```\n",
    "\n",
    "### Proceso\n",
    "\n",
    "Una vez isntaladas las librerias necesarias se procede a importarlas"
   ]
  },
  {
   "cell_type": "code",
   "execution_count": 2,
   "metadata": {},
   "outputs": [],
   "source": [
    "# Importar librerias\n",
    "import time\n",
    "from selenium import webdriver\n",
    "from selenium.webdriver.support.ui import Select\n",
    "import os\n",
    "import openpyxl\n",
    "from openpyxl import Workbook\n",
    "import requests\n",
    "import json"
   ]
  },
  {
   "cell_type": "markdown",
   "metadata": {},
   "source": [
    "#### Automatizacion de insercion de datos\n",
    "\n",
    "El siguiente código se usa para registrar un tipo de geografia y agregar una ruta (compra de boleto) en el sistema, Para ello procederemos a importar el ```webdriver``` de selenium que es el que controlará nuestro navegador e irá buscando el compo que deseemos y lo llenará automaticamente, una vez que los campos estén completos estos se registrarán automaticamente en la base de datos del sistema."
   ]
  },
  {
   "cell_type": "code",
   "execution_count": 3,
   "metadata": {},
   "outputs": [],
   "source": [
    "driver = webdriver.Chrome('chromedriver.exe')\n",
    "\n",
    "# Aceder a la pagina\n",
    "driver.get('http://localhost:4200')\n",
    "time.sleep(4)\n",
    "\n",
    "# Agregar Tipo Geografia\n",
    "link_tipo_geografia = driver.find_element_by_xpath(\"//*[@id='navbarSupportedContent']/ul/li[2]/a\")\n",
    "link_tipo_geografia.click()\n",
    "time.sleep(4)\n",
    "codigo_tipo_geografia = driver.find_element_by_xpath(\"/html/body/app-root/app-tipo-geografia/div/form/div[1]/div[1]/input\")\n",
    "codigo_tipo_geografia.send_keys('05')\n",
    "time.sleep(3)\n",
    "descripcion_tipo_geografia = driver.find_element_by_xpath(\"/html/body/app-root/app-tipo-geografia/div/form/div[1]/div[2]/input\")\n",
    "descripcion_tipo_geografia.send_keys('Barrio')\n",
    "time.sleep(3)\n",
    "guardar_tipo_geografia =driver.find_element_by_xpath(\"/html/body/app-root/app-tipo-geografia/div/form/div[2]/div[2]/button\")\n",
    "guardar_tipo_geografia.click()\n",
    "time.sleep(4)\n",
    "\n",
    "# Agregar Geografia\n",
    "link_ruta = driver.find_element_by_xpath(\"//*[@id='navbarSupportedContent']/ul/li[4]/a\")\n",
    "link_ruta.click()\n",
    "time.sleep(4)\n",
    "codigo_ruta = driver.find_element_by_xpath(\"/html/body/app-root/app-ruta/div/form/div/div[1]/div[1]/input\")\n",
    "codigo_ruta.send_keys('01')\n",
    "time.sleep(3)\n",
    "descripcion_ruta = driver.find_element_by_xpath(\"/html/body/app-root/app-ruta/div/form/div/div[1]/div[2]/input\")\n",
    "descripcion_ruta.send_keys('Regreso')\n",
    "time.sleep(3)\n",
    "origen_dropDown = Select(driver.find_element_by_xpath(\"/html/body/app-root/app-ruta/div/form/div/div[2]/div[1]/select\"))\n",
    "origen_dropDown.select_by_index(3)\n",
    "time.sleep(3)\n",
    "destino_dropDown = Select(driver.find_element_by_xpath(\"/html/body/app-root/app-ruta/div/form/div/div[2]/div[2]/select\"))\n",
    "destino_dropDown.select_by_index(4)\n",
    "time.sleep(3)\n",
    "valor_ruta = driver.find_element_by_xpath(\"/html/body/app-root/app-ruta/div/form/div/div[2]/div[3]/input\")\n",
    "valor_ruta.send_keys('8.25')\n",
    "time.sleep(3)\n",
    "guardar_ruta = driver.find_element_by_xpath(\"/html/body/app-root/app-ruta/div/form/div/div[3]/div[2]/button\")\n",
    "guardar_ruta.click()\n",
    "time.sleep(4)\n"
   ]
  },
  {
   "cell_type": "markdown",
   "metadata": {},
   "source": [
    "#### Guardar datos de una pagina web en un archivo\n",
    "A continuación, trabajando con el mismo sitio web, procedemos a la manipulacion de archivos es decir, extraeremos la información de las rutas y la guardaremos en un archivo de Excel."
   ]
  },
  {
   "cell_type": "code",
   "execution_count": 4,
   "metadata": {},
   "outputs": [
    {
     "name": "stdout",
     "output_type": "stream",
     "text": [
      "Number of Rows:  5\n",
      "Number of Cols:  6\n"
     ]
    }
   ],
   "source": [
    "rows_count = len(driver.find_elements_by_xpath(\"/html/body/app-root/app-ruta/div/table/tbody/tr\"))\n",
    "cols_count = len(driver.find_elements_by_xpath(\"/html/body/app-root/app-ruta/div/table/tbody/tr[1]/td\"))\n",
    "\n",
    "print(\"Number of Rows: \",rows_count)\n",
    "print(\"Number of Cols: \",cols_count)\n",
    "\n",
    "first_part = \"/html/body/app-root/app-ruta/div/table/tbody/tr[\"\n",
    "second_part = \"]/td[\"\n",
    "third_part = \"]\"\n",
    "\n",
    "for n in range(1,rows_count+1):\n",
    "    for m in range(1,cols_count):\n",
    "        final_path = first_part+str(n)+second_part+str(m)+third_part\n",
    "        table_data = driver.find_element_by_xpath(final_path).text\n",
    "        fname = \"RegistroRutas.xlsx\"\n",
    "        if(os.path.exists(fname)):\n",
    "            workbook = openpyxl.load_workbook(fname)\n",
    "            worksheet = workbook[\"Sheet\"]\n",
    "        else:\n",
    "            workbook = Workbook()\n",
    "            worksheet = workbook.active\n",
    "        worksheet.cell(row=n, column=m).value = table_data\n",
    "        workbook.save(fname)"
   ]
  },
  {
   "cell_type": "markdown",
   "metadata": {},
   "source": [
    "#### Uso del servicio de Open Weather Map\n",
    "Finalmente consumiremos un servicio de Open Weather Mar para extraer la Temperatura, Presion Atmosférica, Humedad de un determinado país o ciudad."
   ]
  },
  {
   "cell_type": "code",
   "execution_count": 5,
   "metadata": {},
   "outputs": [
    {
     "name": "stdout",
     "output_type": "stream",
     "text": [
      "Ingrese el Nombre de la Ciudad: Cuenca\n",
      "\n",
      "Pais = EC\n",
      "Temperatura (Kelvil) = 283.15\n",
      "Presion Atmosferica (hPa) = 1025\n",
      "Humedad (%) = 87\n"
     ]
    }
   ],
   "source": [
    "base_url = \"http://api.openweathermap.org/data/2.5/weather\"\n",
    "api_key=\"42a5f6dfd359089d448b0dabe07a25b6\"\n",
    "\n",
    "# Ingresamos el nombre de la ciudad\n",
    "city_name = input(\"Ingrese el Nombre de la Ciudad: \")\n",
    "\n",
    "# Generamos la url completa\n",
    "complete_url = base_url + \"?appid=\" + api_key + \"&q=\" + city_name\n",
    "\n",
    "driver.get(complete_url)\n",
    "time.sleep(4)\n",
    "\n",
    "#get the ui element\n",
    "ui_element=driver.find_element_by_tag_name(\"pre\")\n",
    "#get the weather data\n",
    "weather_data=ui_element.text\n",
    "# print(weather_data)\n",
    "\n",
    "# Transformamos los datos obtenidos a JSON\n",
    "json_data=json.loads(weather_data)\n",
    "\n",
    "if json_data[\"cod\"] != \"404\":\n",
    "    y = json_data[\"main\"] \n",
    "    \n",
    "    current_temperature = y[\"temp\"] \n",
    "    current_pressure = y[\"pressure\"]\n",
    "    current_humidiy = y[\"humidity\"]\n",
    "    \n",
    "    z = json_data[\"sys\"]\n",
    "    \n",
    "    country = z[\"country\"]\n",
    "    \n",
    "    print(\"\\nPais = \"+str(country))\n",
    "    print(\"Temperatura (Kelvil) = \" + str(current_temperature)) \n",
    "    print(\"Presion Atmosferica (hPa) = \" +str(current_pressure))\n",
    "    print(\"Humedad (%) = \"+str(current_humidiy))\n",
    "else: \n",
    "    print(\"Ciudad No Encontrada\") "
   ]
  },
  {
   "cell_type": "code",
   "execution_count": null,
   "metadata": {},
   "outputs": [],
   "source": []
  }
 ],
 "metadata": {
  "kernelspec": {
   "display_name": "Python 3",
   "language": "python",
   "name": "python3"
  },
  "language_info": {
   "codemirror_mode": {
    "name": "ipython",
    "version": 3
   },
   "file_extension": ".py",
   "mimetype": "text/x-python",
   "name": "python",
   "nbconvert_exporter": "python",
   "pygments_lexer": "ipython3",
   "version": "3.7.6"
  }
 },
 "nbformat": 4,
 "nbformat_minor": 4
}
