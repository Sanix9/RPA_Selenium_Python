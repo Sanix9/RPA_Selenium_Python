{
 "cells": [
  {
   "cell_type": "code",
   "execution_count": 7,
   "metadata": {},
   "outputs": [],
   "source": [
    "import time\n",
    "from selenium import webdriver\n",
    "driver = webdriver.Chrome('chromedriver.exe')\n",
    "driver.get('https://www.santamariadelvergel.com/sistema.php')\n",
    "time.sleep(5)\n",
    "user_box = driver.find_element_by_name('usuario')\n",
    "pass_box = driver.find_element_by_name('clave')\n",
    "login_button = driver.find_element_by_name('login')\n",
    "user_box.send_keys('jsanisacam')\n",
    "pass_box.send_keys('FTHXbmyj1062')\n",
    "login_button.click()\n",
    "time.sleep(5)\n",
    "driver.quit()"
   ]
  },
  {
   "cell_type": "code",
   "execution_count": null,
   "metadata": {},
   "outputs": [],
   "source": []
  }
 ],
 "metadata": {
  "kernelspec": {
   "display_name": "Python 3",
   "language": "python",
   "name": "python3"
  },
  "language_info": {
   "codemirror_mode": {
    "name": "ipython",
    "version": 3
   },
   "file_extension": ".py",
   "mimetype": "text/x-python",
   "name": "python",
   "nbconvert_exporter": "python",
   "pygments_lexer": "ipython3",
   "version": "3.7.6"
  }
 },
 "nbformat": 4,
 "nbformat_minor": 4
}
